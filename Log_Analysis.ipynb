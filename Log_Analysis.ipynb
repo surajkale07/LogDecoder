{
  "nbformat": 4,
  "nbformat_minor": 0,
  "metadata": {
    "colab": {
      "provenance": []
    },
    "kernelspec": {
      "name": "python3",
      "display_name": "Python 3"
    },
    "language_info": {
      "name": "python"
    }
  },
  "cells": [
    {
      "cell_type": "code",
      "execution_count": 7,
      "metadata": {
        "colab": {
          "base_uri": "https://localhost:8080/"
        },
        "id": "1c4r-gNeP6is",
        "outputId": "bc268e8b-ae60-4d77-fc64-5c4c44fc5847"
      },
      "outputs": [
        {
          "output_type": "stream",
          "name": "stdout",
          "text": [
            "Requests per IP:\n",
            "192.168.1.1          7\n",
            "203.0.113.5          8\n",
            "10.0.0.2             6\n",
            "198.51.100.23        8\n",
            "192.168.1.100        5\n",
            "\n",
            "Most Frequently Accessed Endpoint:\n",
            "/login (Accessed 13 times)\n",
            "\n",
            "Suspicious Activity Detected:\n",
            "No suspicious activity detected.\n",
            "\n",
            "Results saved to log_analysis_results.csv\n"
          ]
        }
      ],
      "source": [
        "import re\n",
        "from collections import Counter\n",
        "import csv\n",
        "\n",
        "\n",
        "FAILED_LOGIN_THRESHOLD = 10\n",
        "\n",
        "\n",
        "LOG_FILE = \"sample.log\"\n",
        "OUTPUT_FILE = \"log_analysis_results.csv\"\n",
        "\n",
        "def parse_log_file(log_file):\n",
        "    \"\"\"Parses the log file and extracts relevant information.\"\"\"\n",
        "    ip_addresses = []\n",
        "    endpoints = []\n",
        "    failed_logins = []\n",
        "\n",
        "    log_pattern = r'(?P<ip>\\d+\\.\\d+\\.\\d+\\.\\d+).*\\s\"(?P<method>\\w+)\\s(?P<endpoint>.*?)\\sHTTP.*\"\\s(?P<status>\\d+).*'\n",
        "    failed_login_pattern = r'\"POST /login HTTP/1.1\"\\s401'\n",
        "\n",
        "    with open(log_file, 'r') as file:\n",
        "        for line in file:\n",
        "            match = re.match(log_pattern, line)\n",
        "            if match:\n",
        "                ip = match.group('ip')\n",
        "                endpoint = match.group('endpoint')\n",
        "                status = match.group('status')\n",
        "\n",
        "                ip_addresses.append(ip)\n",
        "                endpoints.append(endpoint)\n",
        "\n",
        "\n",
        "                if re.search(failed_login_pattern, line):\n",
        "                    failed_logins.append(ip)\n",
        "\n",
        "    return ip_addresses, endpoints, failed_logins\n",
        "\n",
        "def count_requests(data):\n",
        "\n",
        "    return Counter(data)\n",
        "\n",
        "def detect_suspicious_activity(failed_logins):\n",
        "\n",
        "    failed_login_counts = count_requests(failed_logins)\n",
        "    suspicious_ips = {ip: count for ip, count in failed_login_counts.items() if count > FAILED_LOGIN_THRESHOLD}\n",
        "    return suspicious_ips\n",
        "\n",
        "def save_to_csv(ip_counts, most_accessed_endpoint, suspicious_ips, output_file):\n",
        "\n",
        "    with open(output_file, 'w', newline='') as file:\n",
        "        writer = csv.writer(file)\n",
        "\n",
        "        # Write Requests per IP\n",
        "        writer.writerow([\"Requests per IP\"])\n",
        "        writer.writerow([\"IP Address\", \"Request Count\"])\n",
        "        for ip, count in ip_counts.items():\n",
        "            writer.writerow([ip, count])\n",
        "\n",
        "        # Write Most Accessed Endpoint\n",
        "        writer.writerow([])\n",
        "        writer.writerow([\"Most Accessed Endpoint\"])\n",
        "        writer.writerow([\"Endpoint\", \"Access Count\"])\n",
        "        writer.writerow([most_accessed_endpoint[0], most_accessed_endpoint[1]])\n",
        "\n",
        "        # Write Suspicious Activity\n",
        "        writer.writerow([])\n",
        "        writer.writerow([\"Suspicious Activity\"])\n",
        "        writer.writerow([\"IP Address\", \"Failed Login Count\"])\n",
        "        for ip, count in suspicious_ips.items():\n",
        "            writer.writerow([ip, count])\n",
        "\n",
        "def main():\n",
        "\n",
        "    ip_addresses, endpoints, failed_logins = parse_log_file(LOG_FILE)\n",
        "\n",
        "\n",
        "    ip_counts = count_requests(ip_addresses)\n",
        "\n",
        "    # Identify the most frequently accessed endpoint\n",
        "    endpoint_counts = count_requests(endpoints)\n",
        "    most_accessed_endpoint = endpoint_counts.most_common(1)[0]\n",
        "\n",
        "    # Detect suspicious activity\n",
        "    suspicious_ips = detect_suspicious_activity(failed_logins)\n",
        "\n",
        "    # Display results\n",
        "    print(\"Requests per IP:\")\n",
        "    for ip, count in ip_counts.items():\n",
        "        print(f\"{ip:<20} {count}\")\n",
        "\n",
        "    print(\"\\nMost Frequently Accessed Endpoint:\")\n",
        "    print(f\"{most_accessed_endpoint[0]} (Accessed {most_accessed_endpoint[1]} times)\")\n",
        "\n",
        "    print(\"\\nSuspicious Activity Detected:\")\n",
        "    if suspicious_ips:\n",
        "        for ip, count in suspicious_ips.items():\n",
        "            print(f\"{ip:<20} {count}\")\n",
        "    else:\n",
        "        print(\"No suspicious activity detected.\")\n",
        "\n",
        "    # Save results to a CSV file\n",
        "    save_to_csv(ip_counts, most_accessed_endpoint, suspicious_ips, OUTPUT_FILE)\n",
        "    print(f\"\\nResults saved to {OUTPUT_FILE}\")\n",
        "\n",
        "if __name__ == \"__main__\":\n",
        "    main()\n"
      ]
    },
    {
      "cell_type": "code",
      "source": [
        "import pandas as pd\n",
        "df= pd.read_csv(\"/content/log_analysis_results.csv\")\n",
        "print(df)"
      ],
      "metadata": {
        "colab": {
          "base_uri": "https://localhost:8080/"
        },
        "id": "-2NTpStmTNQO",
        "outputId": "ef3c4894-9c73-4688-888f-7b7356134886"
      },
      "execution_count": 8,
      "outputs": [
        {
          "output_type": "stream",
          "name": "stdout",
          "text": [
            "                           Requests per IP\n",
            "IP Address                   Request Count\n",
            "192.168.1.1                              7\n",
            "203.0.113.5                              8\n",
            "10.0.0.2                                 6\n",
            "198.51.100.23                            8\n",
            "192.168.1.100                            5\n",
            "Most Accessed Endpoint                 NaN\n",
            "Endpoint                      Access Count\n",
            "/login                                  13\n",
            "Suspicious Activity                    NaN\n",
            "IP Address              Failed Login Count\n"
          ]
        }
      ]
    }
  ]
}